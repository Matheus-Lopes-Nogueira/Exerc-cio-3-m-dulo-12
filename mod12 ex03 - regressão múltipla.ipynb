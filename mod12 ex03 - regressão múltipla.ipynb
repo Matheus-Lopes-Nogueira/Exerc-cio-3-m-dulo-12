{
 "cells": [
  {
   "cell_type": "markdown",
   "metadata": {},
   "source": [
    "# Regressão 01 - tarefa 03 - transformações em X e Y"
   ]
  },
  {
   "cell_type": "markdown",
   "metadata": {},
   "source": [
    "Carregue os pacotes necessários e a base de gorjetas.\n",
    "\n",
    "### I. Modelo no valor da gorjeta\n",
    "\n",
    "1. Crie a matriz de design (e a matriz y) utilizando o Patsy, para um modelo em ```tip```, explicada por ```sex, smoker, diner e net_bill```.  \n",
    "2. Remova as variáveis não significantes.  \n",
    "3. observe o gráfico de resíduos em função de ```net_bill```  \n",
    "4. teste transformar ```net_bill``` no log e um polinômio. Escolha o melhor modelo."
   ]
  },
  {
   "cell_type": "code",
   "execution_count": 18,
   "metadata": {},
   "outputs": [
    {
     "name": "stdout",
     "output_type": "stream",
     "text": [
      "0.33489135467728137\n",
      "0.2946732367304479\n"
     ]
    }
   ],
   "source": [
    "import seaborn as sns\n",
    "import statsmodels.formula.api as smf\n",
    "import numpy as np\n",
    "import pandas as pd\n",
    "import statsmodels.formula.api as smf\n",
    "\n",
    "tips = sns.load_dataset(\"tips\")\n",
    "tips[\"net_bill\"] = tips[\"total_bill\"] - tips[\"tip\"]\n",
    "\n",
    "modelo = smf.ols(\"tip ~ smoker + net_bill\", data=tips).fit()\n",
    "print(modelo.rsquared)\n",
    "\n",
    "tips[\"log_net_bill\"] = np.log(tips[\"net_bill\"])\n",
    "modelo_log = smf.ols(\"tip ~ smoker + log_net_bill\", data=tips).fit()\n",
    "print(modelo_log.rsquared)"
   ]
  },
  {
   "cell_type": "markdown",
   "metadata": {},
   "source": [
    "### II. Modelo no valor do percentual da gorjeta\n",
    "\n",
    "1. Crie a matriz de design (e a matriz y) utilizando o Patsy, para um modelo no log de ```tip```, explicado por ```sex, smoker, diner e net_bill```.\n",
    "2. Remova as variáveis não significantes.\n",
    "3. Observe o gráfico de resíduos em função de ```net_bill```\n",
    "4. Teste transformar ```net_bill``` no log e um polinômio. Escolha o melhor modelo.\n",
    "5. Do modelo final deste item, calcule o $R^2$ na escala de ```tip``` (sem o log). Compare com o modelo do item 1. Qual tem melhor coeficiente de determinação?"
   ]
  },
  {
   "cell_type": "code",
   "execution_count": 21,
   "metadata": {},
   "outputs": [
    {
     "name": "stdout",
     "output_type": "stream",
     "text": [
      "0.3194829035033744\n"
     ]
    }
   ],
   "source": [
    "import seaborn as sns, statsmodels.formula.api as smf, numpy as np  \n",
    "tips = sns.load_dataset(\"tips\")  \n",
    "tips[\"net_bill\"] = tips[\"total_bill\"] - tips[\"tip\"]  \n",
    "\n",
    "modelo = smf.ols(\"np.log(tip) ~ smoker + np.log(net_bill)\", data=tips).fit()  \n",
    "print(modelo.rsquared)  \n"
   ]
  },
  {
   "cell_type": "markdown",
   "metadata": {},
   "source": [
    "### III. Previsão de renda\n",
    "\n",
    "Vamos trabalhar a base que você vai usar no projeto do final deste ciclo.\n",
    "\n",
    "Carregue a base ```previsao_de_renda.csv```.\n",
    "\n",
    "|variavel|descrição|\n",
    "|-|-|\n",
    "|data_ref                | Data de referência de coleta das variáveis |\n",
    "|index                   | Código de identificação do cliente|\n",
    "|sexo                    | Sexo do cliente|\n",
    "|posse_de_veiculo        | Indica se o cliente possui veículo|\n",
    "|posse_de_imovel         | Indica se o cliente possui imóvel|\n",
    "|qtd_filhos              | Quantidade de filhos do cliente|\n",
    "|tipo_renda              | Tipo de renda do cliente|\n",
    "|educacao                | Grau de instrução do cliente|\n",
    "|estado_civil            | Estado civil do cliente|\n",
    "|tipo_residencia         | Tipo de residência do cliente (própria, alugada etc)|\n",
    "|idade                   | Idade do cliente|\n",
    "|tempo_emprego           | Tempo no emprego atual|\n",
    "|qt_pessoas_residencia   | Quantidade de pessoas que moram na residência|\n",
    "|renda                   | Renda em reais|\n",
    "\n",
    "1. Ajuste um modelo de regressão linear simples para explicar ```renda``` como variável resposta, por ```tempo_emprego``` como variável explicativa. Observe que há muitas observações nessa tabela. Utilize os recursos que achar necessário.\n",
    "2. Faça uma análise de resíduos. Com os recursos vistos neste módulo, como você melhoraria esta regressão?\n",
    "3. Ajuste um modelo de regressão linear múltipla para explicar ```renda``` (ou uma transformação de ```renda```) de acordo com as demais variáveis.\n",
    "4. Remova as variáveis não significantes e ajuste novamente o modelo. Interprete os parâmetros\n",
    "5. Faça uma análise de resíduos. Avalie a qualidade do ajuste."
   ]
  },
  {
   "cell_type": "code",
   "execution_count": 24,
   "metadata": {},
   "outputs": [
    {
     "name": "stdout",
     "output_type": "stream",
     "text": [
      "Index(['Unnamed: 0', 'data_ref', 'id_cliente', 'sexo', 'posse_de_veiculo',\n",
      "       'posse_de_imovel', 'qtd_filhos', 'tipo_renda', 'educacao',\n",
      "       'estado_civil', 'tipo_residencia', 'idade', 'tempo_emprego',\n",
      "       'qt_pessoas_residencia', 'renda'],\n",
      "      dtype='object')\n",
      "                            OLS Regression Results                            \n",
      "==============================================================================\n",
      "Dep. Variable:          np.log(renda)   R-squared:                       0.173\n",
      "Model:                            OLS   Adj. R-squared:                  0.173\n",
      "Method:                 Least Squares   F-statistic:                     865.0\n",
      "Date:                Mon, 24 Mar 2025   Prob (F-statistic):               0.00\n",
      "Time:                        08:23:32   Log-Likelihood:                -15137.\n",
      "No. Observations:               12427   AIC:                         3.028e+04\n",
      "Df Residuals:                   12423   BIC:                         3.031e+04\n",
      "Df Model:                           3                                         \n",
      "Covariance Type:            nonrobust                                         \n",
      "=================================================================================\n",
      "                    coef    std err          t      P>|t|      [0.025      0.975]\n",
      "---------------------------------------------------------------------------------\n",
      "Intercept         7.7690      0.036    217.881      0.000       7.699       7.839\n",
      "tempo_emprego     0.0553      0.001     47.858      0.000       0.053       0.058\n",
      "idade             0.0011      0.001      1.298      0.194      -0.001       0.003\n",
      "qtd_filhos        0.0491      0.010      5.063      0.000       0.030       0.068\n",
      "==============================================================================\n",
      "Omnibus:                       32.859   Durbin-Watson:                   2.030\n",
      "Prob(Omnibus):                  0.000   Jarque-Bera (JB):               33.104\n",
      "Skew:                           0.126   Prob(JB):                     6.48e-08\n",
      "Kurtosis:                       2.972   Cond. No.                         208.\n",
      "==============================================================================\n",
      "\n",
      "Notes:\n",
      "[1] Standard Errors assume that the covariance matrix of the errors is correctly specified.\n"
     ]
    }
   ],
   "source": [
    "\n",
    "df = pd.read_csv(\"previsao_de_renda.csv\").dropna()  \n",
    "print(df.columns)\n",
    "\n",
    "if \"index\" in df.columns:\n",
    "    df = df.drop(columns=[\"index\"]) \n",
    "\n",
    "df = pd.get_dummies(df.drop(columns=[\"data_ref\"]), drop_first=True)  \n",
    "\n",
    "modelo = smf.ols(\"np.log(renda) ~ tempo_emprego + idade + qtd_filhos\", data=df).fit()\n",
    "print(modelo.summary())\n"
   ]
  }
 ],
 "metadata": {
  "kernelspec": {
   "display_name": "Python [conda env:base] *",
   "language": "python",
   "name": "conda-base-py"
  },
  "language_info": {
   "codemirror_mode": {
    "name": "ipython",
    "version": 3
   },
   "file_extension": ".py",
   "mimetype": "text/x-python",
   "name": "python",
   "nbconvert_exporter": "python",
   "pygments_lexer": "ipython3",
   "version": "3.12.7"
  }
 },
 "nbformat": 4,
 "nbformat_minor": 4
}
